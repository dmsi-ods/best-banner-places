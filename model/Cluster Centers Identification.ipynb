{
 "cells": [
  {
   "cell_type": "markdown",
   "metadata": {},
   "source": [
    "# Training: Cluster Centers Identification"
   ]
  },
  {
   "cell_type": "code",
   "execution_count": 14,
   "metadata": {},
   "outputs": [],
   "source": [
    "import pandas as pd\n",
    "import numpy as np\n",
    "from sklearn.cluster import MeanShift #the algorithm we use\n",
    "\n",
    "import warnings\n",
    "warnings.simplefilter('ignore')"
   ]
  },
  {
   "cell_type": "markdown",
   "metadata": {},
   "source": [
    "### Play with model parameters\n",
    "    bandwidth: the radius of clusters;\n",
    "               0.07 ~= 3-8 km in the middle latitudes.\n",
    "    min_sight_freq: we search clusters with radius = <bandwidth>, that have at least <min_sight_freq> items."
   ]
  },
  {
   "cell_type": "code",
   "execution_count": 15,
   "metadata": {},
   "outputs": [],
   "source": [
    "bandwidth = 0.07\n",
    "min_sight_freq = 3"
   ]
  },
  {
   "cell_type": "markdown",
   "metadata": {},
   "source": [
    "### Loading dataset\n",
    "    Dataset I've used is known as UMN/Sarwat Foursquare Dataset.\n",
    "    This dataset contains 2153471 users, 1143092 venues, 1021970 check-ins, 27098490 social connections, and 2809581 ratings that users assigned to venues;\n",
    "    More on https://archive.org/details/201309_foursquare_dataset_umn"
   ]
  },
  {
   "cell_type": "code",
   "execution_count": 16,
   "metadata": {},
   "outputs": [
    {
     "data": {
      "text/html": [
       "<div>\n",
       "<style scoped>\n",
       "    .dataframe tbody tr th:only-of-type {\n",
       "        vertical-align: middle;\n",
       "    }\n",
       "\n",
       "    .dataframe tbody tr th {\n",
       "        vertical-align: top;\n",
       "    }\n",
       "\n",
       "    .dataframe thead th {\n",
       "        text-align: right;\n",
       "    }\n",
       "</style>\n",
       "<table border=\"1\" class=\"dataframe\">\n",
       "  <thead>\n",
       "    <tr style=\"text-align: right;\">\n",
       "      <th></th>\n",
       "      <th>latitude</th>\n",
       "      <th>longitude</th>\n",
       "    </tr>\n",
       "  </thead>\n",
       "  <tbody>\n",
       "    <tr>\n",
       "      <th>0</th>\n",
       "      <td>38.951705</td>\n",
       "      <td>-92.334072</td>\n",
       "    </tr>\n",
       "    <tr>\n",
       "      <th>1</th>\n",
       "      <td>38.576702</td>\n",
       "      <td>-92.173516</td>\n",
       "    </tr>\n",
       "    <tr>\n",
       "      <th>2</th>\n",
       "      <td>38.943004</td>\n",
       "      <td>-92.361620</td>\n",
       "    </tr>\n",
       "    <tr>\n",
       "      <th>3</th>\n",
       "      <td>38.496657</td>\n",
       "      <td>-92.343726</td>\n",
       "    </tr>\n",
       "    <tr>\n",
       "      <th>4</th>\n",
       "      <td>38.199197</td>\n",
       "      <td>-92.833524</td>\n",
       "    </tr>\n",
       "  </tbody>\n",
       "</table>\n",
       "</div>"
      ],
      "text/plain": [
       "    latitude  longitude\n",
       "0  38.951705 -92.334072\n",
       "1  38.576702 -92.173516\n",
       "2  38.943004 -92.361620\n",
       "3  38.496657 -92.343726\n",
       "4  38.199197 -92.833524"
      ]
     },
     "execution_count": 16,
     "metadata": {},
     "output_type": "execute_result"
    }
   ],
   "source": [
    "data = pd.read_csv('../data/venues.csv', sep=',', header=0, index_col=0)\n",
    "data.head()"
   ]
  },
  {
   "cell_type": "markdown",
   "metadata": {},
   "source": [
    "#### So, we deal with 11798 venues around the world:"
   ]
  },
  {
   "cell_type": "code",
   "execution_count": 17,
   "metadata": {},
   "outputs": [
    {
     "data": {
      "text/plain": [
       "(11798, 2)"
      ]
     },
     "execution_count": 17,
     "metadata": {},
     "output_type": "execute_result"
    }
   ],
   "source": [
    "data.shape"
   ]
  },
  {
   "cell_type": "markdown",
   "metadata": {},
   "source": [
    "#### Let's create and fit Mean Shift model with parameters we have applied."
   ]
  },
  {
   "cell_type": "code",
   "execution_count": 18,
   "metadata": {},
   "outputs": [
    {
     "name": "stdout",
     "output_type": "stream",
     "text": [
      "Total number of clusters: 325\n"
     ]
    }
   ],
   "source": [
    "ms = MeanShift(bandwidth=bandwidth, bin_seeding=True, min_bin_freq=min_sight_freq)\n",
    "ms.fit(data.values)\n",
    "\n",
    "labels_unique = np.unique(ms.labels_)\n",
    "n_clusters_ = len(labels_unique)\n",
    "print('Total number of clusters: {}'.format(n_clusters_))\n",
    "\n",
    "cluster_centers = pd.DataFrame(ms.cluster_centers_, columns=['latitude', 'longitude'])"
   ]
  },
  {
   "cell_type": "markdown",
   "metadata": {},
   "source": [
    "#### Loading coordinates of STA Travel offices"
   ]
  },
  {
   "cell_type": "code",
   "execution_count": 19,
   "metadata": {},
   "outputs": [],
   "source": [
    "STA_coordinates = pd.read_csv('coordinates.txt', sep=', ', header=0).values"
   ]
  },
  {
   "cell_type": "markdown",
   "metadata": {},
   "source": [
    "#### Calculating the distance between cluster centers and offices"
   ]
  },
  {
   "cell_type": "code",
   "execution_count": 20,
   "metadata": {},
   "outputs": [],
   "source": [
    "def func(x):  \n",
    "  return min(list(map(lambda a: ((x[0] - a[0]) ** 2 + (x[1] - a[1]) ** 2) ** 0.5, STA_coordinates)))"
   ]
  },
  {
   "cell_type": "code",
   "execution_count": 21,
   "metadata": {},
   "outputs": [
    {
     "data": {
      "text/html": [
       "<div>\n",
       "<style scoped>\n",
       "    .dataframe tbody tr th:only-of-type {\n",
       "        vertical-align: middle;\n",
       "    }\n",
       "\n",
       "    .dataframe tbody tr th {\n",
       "        vertical-align: top;\n",
       "    }\n",
       "\n",
       "    .dataframe thead th {\n",
       "        text-align: right;\n",
       "    }\n",
       "</style>\n",
       "<table border=\"1\" class=\"dataframe\">\n",
       "  <thead>\n",
       "    <tr style=\"text-align: right;\">\n",
       "      <th></th>\n",
       "      <th>latitude</th>\n",
       "      <th>longitude</th>\n",
       "      <th>less_dist</th>\n",
       "    </tr>\n",
       "  </thead>\n",
       "  <tbody>\n",
       "    <tr>\n",
       "      <th>0</th>\n",
       "      <td>40.740829</td>\n",
       "      <td>-73.984755</td>\n",
       "      <td>0.013081</td>\n",
       "    </tr>\n",
       "    <tr>\n",
       "      <th>1</th>\n",
       "      <td>13.738213</td>\n",
       "      <td>100.521672</td>\n",
       "      <td>0.316691</td>\n",
       "    </tr>\n",
       "    <tr>\n",
       "      <th>2</th>\n",
       "      <td>38.902082</td>\n",
       "      <td>-77.035651</td>\n",
       "      <td>3.549891</td>\n",
       "    </tr>\n",
       "    <tr>\n",
       "      <th>3</th>\n",
       "      <td>40.719992</td>\n",
       "      <td>-73.852317</td>\n",
       "      <td>0.141003</td>\n",
       "    </tr>\n",
       "    <tr>\n",
       "      <th>4</th>\n",
       "      <td>40.832070</td>\n",
       "      <td>-74.022553</td>\n",
       "      <td>0.105700</td>\n",
       "    </tr>\n",
       "  </tbody>\n",
       "</table>\n",
       "</div>"
      ],
      "text/plain": [
       "    latitude   longitude  less_dist\n",
       "0  40.740829  -73.984755   0.013081\n",
       "1  13.738213  100.521672   0.316691\n",
       "2  38.902082  -77.035651   3.549891\n",
       "3  40.719992  -73.852317   0.141003\n",
       "4  40.832070  -74.022553   0.105700"
      ]
     },
     "execution_count": 21,
     "metadata": {},
     "output_type": "execute_result"
    }
   ],
   "source": [
    "cluster_centers['less_dist'] = cluster_centers.apply(func, axis=1)\n",
    "cluster_centers.head()"
   ]
  },
  {
   "cell_type": "markdown",
   "metadata": {},
   "source": [
    "#### Output the best cluster centers"
   ]
  },
  {
   "cell_type": "code",
   "execution_count": 22,
   "metadata": {},
   "outputs": [],
   "source": [
    "cluster_centers = cluster_centers.sort_values(by='less_dist', ascending=True)\n",
    "best = cluster_centers.iloc[:20, :2].values"
   ]
  },
  {
   "cell_type": "code",
   "execution_count": 23,
   "metadata": {},
   "outputs": [
    {
     "name": "stdout",
     "output_type": "stream",
     "text": [
      "51.51336727857142 , -0.14118561428571427\n",
      "40.74082860641552 , -73.98475529218959\n",
      "-33.88264309583334 , 151.196539\n",
      "1.3132710500000002 , 103.84982767999998\n",
      "40.83207020363457 , -74.02255291759762\n",
      "32.730421633333336 , -117.1990883888889\n",
      "13.903950455555554 , 100.60707361111112\n",
      "40.7199924650692 , -73.85231737179492\n",
      "51.509116516666666 , -0.2869840666666667\n",
      "40.61846416666666 , -74.11737955555556\n",
      "40.811854700000005 , -74.14721413043476\n",
      "51.433522283333325 , -0.2966435166666667\n",
      "40.89374621666666 , -73.85312388333334\n",
      "32.549860800000005 , -117.03512873333334\n",
      "40.95888477368422 , -73.99458288947369\n",
      "40.92862703125 , -74.1190614875\n",
      "40.81513530714285 , -74.25957897142857\n",
      "40.734656217857136 , -73.70680561071428\n",
      "41.03679218235294 , -73.93240693529413\n",
      "40.6059341625 , -74.2825373\n"
     ]
    }
   ],
   "source": [
    "for i in best:\n",
    "  print(i[0], ',', i[1])"
   ]
  },
  {
   "cell_type": "markdown",
   "metadata": {},
   "source": [
    "### Visualization\n",
    "    1. Copy coordinates above.\n",
    "    2. Go to [ff](https://www.mapcustomizer.com/)\n",
    "    3. Choose 'Bulk entry' in the top right corner.\n",
    "    4. Paste coordinates and press 'Add locations'."
   ]
  }
 ],
 "metadata": {
  "kernelspec": {
   "display_name": "Python 3",
   "language": "python",
   "name": "python3"
  },
  "language_info": {
   "codemirror_mode": {
    "name": "ipython",
    "version": 3
   },
   "file_extension": ".py",
   "mimetype": "text/x-python",
   "name": "python",
   "nbconvert_exporter": "python",
   "pygments_lexer": "ipython3",
   "version": "3.6.5"
  }
 },
 "nbformat": 4,
 "nbformat_minor": 2
}
